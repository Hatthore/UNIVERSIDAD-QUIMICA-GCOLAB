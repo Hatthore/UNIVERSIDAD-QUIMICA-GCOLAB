{
  "nbformat": 4,
  "nbformat_minor": 0,
  "metadata": {
    "colab": {
      "provenance": [],
      "authorship_tag": "ABX9TyOyf33bIdCPLNI9Yyf6ms9o",
      "include_colab_link": true
    },
    "kernelspec": {
      "name": "python3",
      "display_name": "Python 3"
    },
    "language_info": {
      "name": "python"
    }
  },
  "cells": [
    {
      "cell_type": "markdown",
      "metadata": {
        "id": "view-in-github",
        "colab_type": "text"
      },
      "source": [
        "<a href=\"https://colab.research.google.com/github/Hatthore/UNIVERSIDAD-QUIMICA-GCOLAB/blob/General/EspaciosVectReales.ipynb\" target=\"_parent\"><img src=\"https://colab.research.google.com/assets/colab-badge.svg\" alt=\"Open In Colab\"/></a>"
      ]
    },
    {
      "cell_type": "code",
      "execution_count": null,
      "metadata": {
        "colab": {
          "base_uri": "https://localhost:8080/"
        },
        "id": "bzzB6sT87HAT",
        "outputId": "7b709fca-0312-40bf-8fc5-5ab23ca0dec5"
      },
      "outputs": [
        {
          "output_type": "execute_result",
          "data": {
            "text/plain": [
              "(Matrix([\n",
              " [1, 0, 0, -1],\n",
              " [0, 1, 0,  0],\n",
              " [0, 0, 1,  0]]),\n",
              " (0, 1, 2),\n",
              " Matrix([\n",
              " [2, 4, 0],\n",
              " [0, 0, 3],\n",
              " [0, 1, 3]]))"
            ]
          },
          "metadata": {},
          "execution_count": 35
        }
      ],
      "source": [
        "from sympy import Matrix\n",
        "import numpy as np\n",
        "\n",
        "# Matriz original\n",
        "A = np.array([\n",
        "    [2, 4, 0, -2],\n",
        "    [0, 0, 3, 0],\n",
        "    [0, 1, 3, 0],\n",
        "])\n",
        "\n",
        "\n",
        "# Convertimos la matriz a formato simbólico para realizar reducción por filas\n",
        "A_sym = Matrix(A)\n",
        "\n",
        "# Reducción por filas\n",
        "rref_matrix, pivot_columns = A_sym.rref()  # rref() devuelve la matriz reducida y las posiciones pivote\n",
        "\n",
        "# Seleccionar columnas base (columnas pivote de la matriz original)\n",
        "base_column_space = A_sym[:, pivot_columns]\n",
        "\n",
        "rref_matrix, pivot_columns, base_column_space"
      ]
    },
    {
      "cell_type": "code",
      "source": [
        "# Matriz del problema\n",
        "B = np.array([\n",
        "    [1, 2, 3, 4, 5],\n",
        "    [3, 4, -1, 0, 3],\n",
        "    [5, -2, 2, 1, 0],\n",
        "])\n",
        "\n",
        "# Convertir a formato simbólico para calcular el espacio nulo\n",
        "B_sym = Matrix(B)\n",
        "\n",
        "# Calcular el espacio nulo (kernel) de la matriz\n",
        "null_space = B_sym.nullspace()\n",
        "\n",
        "# Convertir el espacio nulo a forma de matriz\n",
        "null_space_vectors = [vector for vector in null_space]\n",
        "\n",
        "null_space_vectors"
      ],
      "metadata": {
        "colab": {
          "base_uri": "https://localhost:8080/"
        },
        "id": "788UbjNY723X",
        "outputId": "a004f267-f07d-4cf7-926f-2a104e568e84"
      },
      "execution_count": null,
      "outputs": [
        {
          "output_type": "execute_result",
          "data": {
            "text/plain": [
              "[Matrix([\n",
              " [  5/47],\n",
              " [-17/47],\n",
              " [-53/47],\n",
              " [     1],\n",
              " [     0]]),\n",
              " Matrix([\n",
              " [ 0],\n",
              " [-1],\n",
              " [-1],\n",
              " [ 0],\n",
              " [ 1]])]"
            ]
          },
          "metadata": {},
          "execution_count": 33
        }
      ]
    },
    {
      "cell_type": "code",
      "source": [
        "import numpy as np\n",
        "from sympy import Matrix\n",
        "\n",
        "# Matriz original\n",
        "A = np.array([\n",
        "    [2, -4, 0, 0, 0],\n",
        "    [1, 0, 0, 0, 2],\n",
        "    [0, -5, 0, 0, 2],\n",
        "])\n",
        "\n",
        "# Convertir la matriz a formato simbólico con Sympy\n",
        "A_sym = Matrix(A)\n",
        "\n",
        "# Calcular la forma escalonada reducida por filas\n",
        "rref_B, pivot_rows = A_sym.rref()\n",
        "\n",
        "# Mostrar las filas independientes (espacio fila)\n",
        "print(\"Forma escalonada reducida por filas:\")\n",
        "print(rref_B)\n",
        "\n",
        "print(\"\\nFilas independientes (base del espacio fila):\")\n",
        "for i in pivot_rows:\n",
        "    print(A[i, :])"
      ],
      "metadata": {
        "colab": {
          "base_uri": "https://localhost:8080/",
          "height": 280
        },
        "id": "Lvo7aJBv-HLe",
        "outputId": "a7aef468-03c7-46fa-db78-24ed870a8566"
      },
      "execution_count": null,
      "outputs": [
        {
          "output_type": "stream",
          "name": "stdout",
          "text": [
            "Forma escalonada reducida por filas:\n",
            "Matrix([[1, 0, 0, 0, 0], [0, 1, 0, 0, 0], [0, 0, 0, 0, 1]])\n",
            "\n",
            "Filas independientes (base del espacio fila):\n",
            "[ 1 -4  0  0  0]\n",
            "[1 0 0 0 2]\n"
          ]
        },
        {
          "output_type": "error",
          "ename": "IndexError",
          "evalue": "index 4 is out of bounds for axis 0 with size 3",
          "traceback": [
            "\u001b[0;31m---------------------------------------------------------------------------\u001b[0m",
            "\u001b[0;31mIndexError\u001b[0m                                Traceback (most recent call last)",
            "\u001b[0;32m<ipython-input-28-55a4a53fa693>\u001b[0m in \u001b[0;36m<cell line: 22>\u001b[0;34m()\u001b[0m\n\u001b[1;32m     21\u001b[0m \u001b[0mprint\u001b[0m\u001b[0;34m(\u001b[0m\u001b[0;34m\"\\nFilas independientes (base del espacio fila):\"\u001b[0m\u001b[0;34m)\u001b[0m\u001b[0;34m\u001b[0m\u001b[0;34m\u001b[0m\u001b[0m\n\u001b[1;32m     22\u001b[0m \u001b[0;32mfor\u001b[0m \u001b[0mi\u001b[0m \u001b[0;32min\u001b[0m \u001b[0mpivot_rows\u001b[0m\u001b[0;34m:\u001b[0m\u001b[0;34m\u001b[0m\u001b[0;34m\u001b[0m\u001b[0m\n\u001b[0;32m---> 23\u001b[0;31m     \u001b[0mprint\u001b[0m\u001b[0;34m(\u001b[0m\u001b[0mA\u001b[0m\u001b[0;34m[\u001b[0m\u001b[0mi\u001b[0m\u001b[0;34m,\u001b[0m \u001b[0;34m:\u001b[0m\u001b[0;34m]\u001b[0m\u001b[0;34m)\u001b[0m\u001b[0;34m\u001b[0m\u001b[0;34m\u001b[0m\u001b[0m\n\u001b[0m",
            "\u001b[0;31mIndexError\u001b[0m: index 4 is out of bounds for axis 0 with size 3"
          ]
        }
      ]
    },
    {
      "cell_type": "code",
      "source": [
        "import numpy as np\n",
        "from sympy import Matrix\n",
        "\n",
        "# Matriz original\n",
        "A = np.array([\n",
        "    [2, 5, -1],\n",
        "    [3, -1, 2],\n",
        "    [6, -3, 1],\n",
        "    [4, 6, -3],\n",
        "])\n",
        "\n",
        "# Convertir la matriz a formato simbólico con Sympy\n",
        "A_sym = Matrix(A)\n",
        "\n",
        "# Calcular la forma escalonada reducida por filas\n",
        "rref_B, pivot_rows = A_sym.rref()\n",
        "\n",
        "# Mostrar las filas independientes (espacio fila)\n",
        "print(\"Forma escalonada reducida por filas:\")\n",
        "print(rref_B)\n",
        "\n",
        "print(\"\\nFilas independientes (base del espacio fila):\")\n",
        "# The pivot_rows from sympy.Matrix.rref() can refer to rows\n",
        "# from the original matrix, which is beyond the number of rows\n",
        "# in the reduced row echelon form.\n",
        "# This loop ensures we only print the rows that exist in the rref_B\n",
        "for i in range(rref_B.shape[0]):\n",
        "    print(rref_B[i, :])"
      ],
      "metadata": {
        "colab": {
          "base_uri": "https://localhost:8080/"
        },
        "id": "pEQliXiZEx4a",
        "outputId": "2aa561d3-c296-4cad-c68c-4b32160dfa81"
      },
      "execution_count": null,
      "outputs": [
        {
          "output_type": "stream",
          "name": "stdout",
          "text": [
            "Forma escalonada reducida por filas:\n",
            "Matrix([[1, 0, 0], [0, 1, 0], [0, 0, 1], [0, 0, 0]])\n",
            "\n",
            "Filas independientes (base del espacio fila):\n",
            "Matrix([[1, 0, 0]])\n",
            "Matrix([[0, 1, 0]])\n",
            "Matrix([[0, 0, 1]])\n",
            "Matrix([[0, 0, 0]])\n"
          ]
        }
      ]
    }
  ]
}