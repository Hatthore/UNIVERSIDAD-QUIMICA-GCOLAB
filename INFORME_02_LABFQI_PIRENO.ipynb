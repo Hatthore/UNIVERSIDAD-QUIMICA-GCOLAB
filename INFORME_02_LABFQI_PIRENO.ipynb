{
  "nbformat": 4,
  "nbformat_minor": 0,
  "metadata": {
    "colab": {
      "provenance": [],
      "authorship_tag": "ABX9TyPJswgNqgU/dEjKcRwBTH1d",
      "include_colab_link": true
    },
    "kernelspec": {
      "name": "python3",
      "display_name": "Python 3"
    },
    "language_info": {
      "name": "python"
    }
  },
  "cells": [
    {
      "cell_type": "markdown",
      "metadata": {
        "id": "view-in-github",
        "colab_type": "text"
      },
      "source": [
        "<a href=\"https://colab.research.google.com/github/Hatthore/UNIVERSIDAD-QUIMICA-GCOLAB/blob/labFQI/INFORME_02_LABFQI_PIRENO.ipynb\" target=\"_parent\"><img src=\"https://colab.research.google.com/assets/colab-badge.svg\" alt=\"Open In Colab\"/></a>"
      ]
    },
    {
      "cell_type": "code",
      "execution_count": 1,
      "metadata": {
        "id": "JoRVlabk3ilU"
      },
      "outputs": [],
      "source": [
        "import numpy as np\n",
        "from scipy import stats\n",
        "import matplotlib.pyplot as plt"
      ]
    },
    {
      "cell_type": "code",
      "source": [
        "# Datos de entrada\n",
        "x = np.array([0, 3, 4, 5, 6, 7, 7, 7.5, 7.5, 7.75, 8, 8.25, 8.5, 8.5, 8.75, 9, 9.5, 10, 11, 12, 13])\n",
        "y = np.array([6.00000795, 1.750001391, 0.90624928, 1.651175043, 0.973683952, 0.828570111, 1.100000875, 1.485720979, 1.190478714, 1.111111994, 0.928570444, 1.258072518, 0.787231956, 1.12121331, 1.714297072, 1.452839429, 1.230774123, 1.145456974, 0.890907674, 1.211541993, 1.230772166])\n"
      ],
      "metadata": {
        "id": "pxLuqt0c4GIL"
      },
      "execution_count": 3,
      "outputs": []
    },
    {
      "cell_type": "code",
      "source": [
        "# Realizar la regresión lineal\n",
        "slope, intercept, r_value, p_value, std_err = stats.linregress(x, y)\n",
        "print(f'Pendiente (slope): {slope}')\n",
        "print(f'Intercepto (intercept): {intercept}')\n",
        "print(f'Coeficiente de determinación (R^2): {r_value**2}')"
      ],
      "metadata": {
        "colab": {
          "base_uri": "https://localhost:8080/"
        },
        "id": "IHOObQ0b5tUZ",
        "outputId": "ffa39d54-1060-42b3-b24f-22c4704aae68"
      },
      "execution_count": 4,
      "outputs": [
        {
          "output_type": "stream",
          "name": "stdout",
          "text": [
            "Pendiente (slope): -0.22272426041095061\n",
            "Intercepto (intercept): 3.1372840447269423\n",
            "Coeficiente de determinación (R^2): 0.3728063031628334\n"
          ]
        }
      ]
    },
    {
      "cell_type": "code",
      "source": [
        "# Datos de entrada (3 puntos)\n",
        "k =  np.array([0, 3, 4])\n",
        "t = np.array([6.00000795, 1.750001391, 0.90624928])"
      ],
      "metadata": {
        "id": "seLcIO0Q7Frk"
      },
      "execution_count": 5,
      "outputs": []
    },
    {
      "cell_type": "code",
      "source": [
        "# Realizar la regresión lineal (3 puntos)\n",
        "slope, intercept, r_value, p_value, std_err = stats.linregress(k, t)\n",
        "print(f'Pendiente (slope): {slope}')\n",
        "print(f'Intercepto (intercept): {intercept}')\n",
        "print(f'Coeficiente de determinación (R^2): {r_value**2}')"
      ],
      "metadata": {
        "colab": {
          "base_uri": "https://localhost:8080/"
        },
        "id": "-IhYxmYV7Yag",
        "outputId": "d1076279-2ac9-413f-d1d7-5f4428f528ab"
      },
      "execution_count": 6,
      "outputs": [
        {
          "output_type": "stream",
          "name": "stdout",
          "text": [
            "Pendiente (slope): -1.3064925564615382\n",
            "Intercepto (intercept): 5.933902172076923\n",
            "Coeficiente de determinación (R^2): 0.9923780975449216\n"
          ]
        }
      ]
    },
    {
      "cell_type": "code",
      "source": [
        "y_pred = slope * k + intercept # Calculate y_pred using k instead of x\n",
        "# Graficar los datos y la línea de regresión\n",
        "plt.scatter(k, t, label='concentraciones')\n",
        "plt.plot(k, y_pred, color='red', label='Línea de regresión')\n",
        "plt.xlabel('Concentración (k)')\n",
        "plt.ylabel('Absorbancia (t)')\n",
        "plt.legend()\n",
        "plt.show()"
      ],
      "metadata": {
        "colab": {
          "base_uri": "https://localhost:8080/",
          "height": 449
        },
        "id": "sEl_ju7PBXhT",
        "outputId": "d7eeed70-9fcd-4d86-a8e5-6e0a8417f866"
      },
      "execution_count": 24,
      "outputs": [
        {
          "output_type": "display_data",
          "data": {
            "text/plain": [
              "<Figure size 640x480 with 1 Axes>"
            ],
            "image/png": "[encoded data removed]"
          },
          "metadata": {}
        }
      ]
    },
    {
      "cell_type": "code",
      "source": [
        "# Y PREDICHO (3 prontos)\n",
        "ypredicho1= (slope*k)+intercept\n",
        "ypredicho1"
      ],
      "metadata": {
        "colab": {
          "base_uri": "https://localhost:8080/"
        },
        "id": "B0O2Svf77nJg",
        "outputId": "ca059d18-c18c-4139-ae3c-42714a3d0560"
      },
      "execution_count": 10,
      "outputs": [
        {
          "output_type": "execute_result",
          "data": {
            "text/plain": [
              "array([5.93390217, 2.0144245 , 0.70793195])"
            ]
          },
          "metadata": {},
          "execution_count": 10
        }
      ]
    },
    {
      "cell_type": "code",
      "source": [
        "# Calcular residuos (3 puntos)\n",
        "residuos = k - ypredicho1\n",
        "residuos"
      ],
      "metadata": {
        "colab": {
          "base_uri": "https://localhost:8080/"
        },
        "id": "FsAPGBhv8F-P",
        "outputId": "c5ccf770-3a59-4e54-b80b-3999612b3bb8"
      },
      "execution_count": 11,
      "outputs": [
        {
          "output_type": "execute_result",
          "data": {
            "text/plain": [
              "array([-5.93390217,  0.9855755 ,  3.29206805])"
            ]
          },
          "metadata": {},
          "execution_count": 11
        }
      ]
    },
    {
      "cell_type": "code",
      "source": [
        "# Desviación estándar (3 puntos)\n",
        "desviacion_estandar = np.std(residuos, ddof=2)\n",
        "desviacion_estandar\n"
      ],
      "metadata": {
        "colab": {
          "base_uri": "https://localhost:8080/"
        },
        "id": "yB-Nmm7I-OMT",
        "outputId": "a2de175c-e206-4de0-8244-ffc70b0960b4"
      },
      "execution_count": 18,
      "outputs": [
        {
          "output_type": "execute_result",
          "data": {
            "text/plain": [
              "6.790130232877828"
            ]
          },
          "metadata": {},
          "execution_count": 18
        }
      ]
    }
  ]
}