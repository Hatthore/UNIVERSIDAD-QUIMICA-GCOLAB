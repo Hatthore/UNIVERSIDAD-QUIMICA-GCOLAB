{
  "nbformat": 4,
  "nbformat_minor": 0,
  "metadata": {
    "colab": {
      "provenance": [],
      "authorship_tag": "ABX9TyPFGt2vLYgrFhfM4Nrw/syg",
      "include_colab_link": true
    },
    "kernelspec": {
      "name": "python3",
      "display_name": "Python 3"
    },
    "language_info": {
      "name": "python"
    }
  },
  "cells": [
    {
      "cell_type": "markdown",
      "metadata": {
        "id": "view-in-github",
        "colab_type": "text"
      },
      "source": [
        "<a href=\"https://colab.research.google.com/github/Hatthore/UNIVERSIDAD-QUIMICA-GCOLAB/blob/General/VECTORES_EN_Rn.ipynb\" target=\"_parent\"><img src=\"https://colab.research.google.com/assets/colab-badge.svg\" alt=\"Open In Colab\"/></a>"
      ]
    },
    {
      "cell_type": "code",
      "execution_count": null,
      "metadata": {
        "colab": {
          "base_uri": "https://localhost:8080/"
        },
        "id": "MOlCb8NKLg2N",
        "outputId": "a53da887-3ff6-46cc-9c57-e94762b988ff"
      },
      "outputs": [
        {
          "output_type": "stream",
          "name": "stdout",
          "text": [
            "La dimensión del subespacio solución es: 2\n"
          ]
        }
      ],
      "source": [
        "import numpy as np\n",
        "\n",
        "# Coeficientes de la ecuación lineal: 3x + 2y - 4z = 0\n",
        "coeficientes = np.array([[3, 2, -4]])\n",
        "\n",
        "# Matriz que representa el sistema homogéneo (Ax = 0)\n",
        "A = coeficientes\n",
        "\n",
        "# Dimensión del espacio ambiente (R^3)\n",
        "dim_espacio = 3\n",
        "\n",
        "# Rango de la matriz de coeficientes\n",
        "rango = np.linalg.matrix_rank(A)\n",
        "\n",
        "# Dimensión del subespacio solución\n",
        "dim_subespacio = dim_espacio - rango\n",
        "\n",
        "print(f\"La dimensión del subespacio solución es: {dim_subespacio}\")\n"
      ]
    },
    {
      "cell_type": "code",
      "source": [
        "\n",
        "# Definimos los vectores\n",
        "u = np.array([-3, 2, 1])\n",
        "v = np.array([-1, 2, 4])\n",
        "\n",
        "# Proyección de u sobre v\n",
        "numerador = np.dot(u, v)  # Producto punto u·v\n",
        "denominador = np.dot(v, v)  # Producto punto v·v\n",
        "proyeccion = (numerador / denominador) * v  # Proyección escalar * vector v\n",
        "\n",
        "# Logs intermedios para depuración\n",
        "print(f\"Vector u: {u}\")\n",
        "print(f\"Vector v: {v}\")\n",
        "print(f\"Numerador (u·v): {numerador}\")\n",
        "print(f\"Denominador (v·v): {denominador}\")\n",
        "print(f\"Proyección de u sobre v: {proyeccion}\")\n"
      ],
      "metadata": {
        "colab": {
          "base_uri": "https://localhost:8080/"
        },
        "id": "Za8aHDeXMvsG",
        "outputId": "9f1d53b2-8049-4366-8d50-bb521726a65a"
      },
      "execution_count": null,
      "outputs": [
        {
          "output_type": "stream",
          "name": "stdout",
          "text": [
            "Vector u: [-3  2  1]\n",
            "Vector v: [-1  2  4]\n",
            "Numerador (u·v): 11\n",
            "Denominador (v·v): 21\n",
            "Proyección de u sobre v: [-0.52380952  1.04761905  2.0952381 ]\n"
          ]
        }
      ]
    },
    {
      "cell_type": "code",
      "source": [
        "\n",
        "\n",
        "# Función para verificar si un conjunto de vectores es ortogonal\n",
        "def es_ortogonal(vectores):\n",
        "    n = len(vectores)\n",
        "    for i in range(n):\n",
        "        for j in range(i + 1, n):\n",
        "            producto_punto = np.dot(vectores[i], vectores[j])\n",
        "            print(f\"Producto punto entre {vectores[i]} y {vectores[j]}: {producto_punto}\")\n",
        "            if producto_punto != 0:\n",
        "                return False\n",
        "    return True\n",
        "\n",
        "# Conjuntos de vectores\n",
        "conjuntos = {\n",
        "    \"a\": [np.array([-3, 0, 1]), np.array([0, -1, 0]), np.array([-1, 0, -3])],\n",
        "    \"b\": [np.array([-3, 0, 1]), np.array([0, 1, 0]), np.array([1, 0, -3])],\n",
        "    \"c\": [np.array([-3, 0, 1]), np.array([0, -1, 0]), np.array([1, 0, 3])],\n",
        "    \"d\": [np.array([3, 0, 1]), np.array([0, -1, 0]), np.array([-1, 0, -3])],\n",
        "}\n",
        "\n",
        "# Verificar ortogonalidad de cada conjunto\n",
        "for etiqueta, vectores in conjuntos.items():\n",
        "    print(f\"\\nConjunto {etiqueta}:\")\n",
        "    if es_ortogonal(vectores):\n",
        "        print(f\"El conjunto {etiqueta} es ortogonal.\")\n",
        "    else:\n",
        "        print(f\"El conjunto {etiqueta} NO es ortogonal.\")\n"
      ],
      "metadata": {
        "colab": {
          "base_uri": "https://localhost:8080/"
        },
        "id": "QQ2ICODANUKC",
        "outputId": "62510ed3-b9fe-4cf5-faf1-9e4166a0bbbd"
      },
      "execution_count": null,
      "outputs": [
        {
          "output_type": "stream",
          "name": "stdout",
          "text": [
            "\n",
            "Conjunto a:\n",
            "Producto punto entre [-3  0  1] y [ 0 -1  0]: 0\n",
            "Producto punto entre [-3  0  1] y [-1  0 -3]: 0\n",
            "Producto punto entre [ 0 -1  0] y [-1  0 -3]: 0\n",
            "El conjunto a es ortogonal.\n",
            "\n",
            "Conjunto b:\n",
            "Producto punto entre [-3  0  1] y [0 1 0]: 0\n",
            "Producto punto entre [-3  0  1] y [ 1  0 -3]: -6\n",
            "El conjunto b NO es ortogonal.\n",
            "\n",
            "Conjunto c:\n",
            "Producto punto entre [-3  0  1] y [ 0 -1  0]: 0\n",
            "Producto punto entre [-3  0  1] y [1 0 3]: 0\n",
            "Producto punto entre [ 0 -1  0] y [1 0 3]: 0\n",
            "El conjunto c es ortogonal.\n",
            "\n",
            "Conjunto d:\n",
            "Producto punto entre [3 0 1] y [ 0 -1  0]: 0\n",
            "Producto punto entre [3 0 1] y [-1  0 -3]: -6\n",
            "El conjunto d NO es ortogonal.\n"
          ]
        }
      ]
    }
  ]
}