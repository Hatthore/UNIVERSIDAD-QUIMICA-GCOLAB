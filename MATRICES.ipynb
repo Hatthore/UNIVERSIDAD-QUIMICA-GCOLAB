{
  "nbformat": 4,
  "nbformat_minor": 0,
  "metadata": {
    "colab": {
      "provenance": [],
      "authorship_tag": "ABX9TyNcJ6wVTiwN+qh9LBBhS19z",
      "include_colab_link": true
    },
    "kernelspec": {
      "name": "python3",
      "display_name": "Python 3"
    },
    "language_info": {
      "name": "python"
    }
  },
  "cells": [
    {
      "cell_type": "markdown",
      "metadata": {
        "id": "view-in-github",
        "colab_type": "text"
      },
      "source": [
        "<a href=\"https://colab.research.google.com/github/Hatthore/UNIVERSIDAD-QUIMICA-GCOLAB/blob/General/MATRICES.ipynb\" target=\"_parent\"><img src=\"https://colab.research.google.com/assets/colab-badge.svg\" alt=\"Open In Colab\"/></a>"
      ]
    },
    {
      "cell_type": "code",
      "execution_count": 2,
      "metadata": {
        "colab": {
          "base_uri": "https://localhost:8080/"
        },
        "id": "EWxTUwBrd6Uk",
        "outputId": "eaa5469c-5586-4bff-df8f-c49ede41412d"
      },
      "outputs": [
        {
          "output_type": "execute_result",
          "data": {
            "text/plain": [
              "array([[ 11., -12.,  -8.],\n",
              "       [  1.,  -1.,  -1.],\n",
              "       [ -8.,   9.,   6.]])"
            ]
          },
          "metadata": {},
          "execution_count": 2
        }
      ],
      "source": [
        "import numpy as np\n",
        "\n",
        "# Definir la matriz A\n",
        "A = np.array([[3, 2, 1],\n",
        "              [0,  2, -3],\n",
        "              [4, 3, 1]])\n",
        "\n",
        "# Función para calcular el cofactor\n",
        "def cofactor(matrix, i, j):\n",
        "    # Menor asociado\n",
        "    minor = np.delete(np.delete(matrix, i, axis=0), j, axis=1)\n",
        "    # Cofactor\n",
        "    return ((-1) ** (i + j)) * np.linalg.det(minor)\n",
        "\n",
        "# Calcular la matriz de cofactores\n",
        "cof_matrix = np.zeros_like(A, dtype=float)\n",
        "for i in range(A.shape[0]):\n",
        "    for j in range(A.shape[1]):\n",
        "        cof_matrix[i, j] = cofactor(A, i, j)\n",
        "\n",
        "cof_matrix"
      ]
    },
    {
      "cell_type": "code",
      "source": [
        "# Definir las matrices\n",
        "matrices_inversa = {\n",
        "    \"a\": np.array([[1, -3, 2], [2, 5, 0], [0, -1, -2]]),\n",
        "    \"b\": np.array([[8, 7, 6], [2, 1, 0], [5, 4, 3]]),\n",
        "    \"c\": np.array([[9, 8, 7], [6, 5, 4], [3, 2, 1]]),\n",
        "    \"d\": np.array([[1, 2, 3], [4, 5, 6], [7, 8, 9]]),\n",
        "}\n",
        "\n",
        "# Calcular determinantes\n",
        "determinantes_inversa = {key: round(np.linalg.det(matrix), 5) for key, matrix in matrices_inversa.items()}\n",
        "determinantes_inversa"
      ],
      "metadata": {
        "colab": {
          "base_uri": "https://localhost:8080/"
        },
        "id": "WHQLY5kjffo4",
        "outputId": "33394eb3-7bea-459e-8e00-f32cc4d3e6ed"
      },
      "execution_count": 4,
      "outputs": [
        {
          "output_type": "execute_result",
          "data": {
            "text/plain": [
              "{'a': -26.0, 'b': 0.0, 'c': 0.0, 'd': 0.0}"
            ]
          },
          "metadata": {},
          "execution_count": 4
        }
      ]
    },
    {
      "cell_type": "code",
      "source": [
        "# Definimos la matriz A\n",
        "A = np.array([[1, 0, 0, 1],\n",
        "              [1, 2, 3, 2],\n",
        "              [2, 3, 4, 0],\n",
        "              [1, 2, -1, -2]])\n",
        "\n",
        "# Función para calcular el cofactor de un elemento en la matriz\n",
        "def cofactor(matrix, i, j):\n",
        "    minor = np.delete(np.delete(matrix, i, axis=0), j, axis=1)  # Eliminar fila i y columna j\n",
        "    return ((-1) ** (i + j)) * round(np.linalg.det(minor))  # Determinante del menor con signo\n",
        "\n",
        "# Calculamos la matriz de cofactores\n",
        "cofactors = np.zeros_like(A, dtype=int)\n",
        "for i in range(A.shape[0]):\n",
        "    for j in range(A.shape[1]):\n",
        "        cofactors[i, j] = cofactor(A, i, j)\n",
        "\n",
        "# Transponemos la matriz de cofactores para obtener la adjunta\n",
        "adjoint = cofactors.T\n",
        "cofactors, adjoint"
      ],
      "metadata": {
        "colab": {
          "base_uri": "https://localhost:8080/"
        },
        "id": "9Pozrpaxgqdm",
        "outputId": "f405b11d-4f7e-4eb6-d648-e4f420ee63d9"
      },
      "execution_count": 10,
      "outputs": [
        {
          "output_type": "execute_result",
          "data": {
            "text/plain": [
              "(array([[-20,   8,   4,  -4],\n",
              "        [ 11, -14,   5, -11],\n",
              "        [ -8,   8,  -8,   8],\n",
              "        [  1, -10,   7,  -1]]),\n",
              " array([[-20,  11,  -8,   1],\n",
              "        [  8, -14,   8, -10],\n",
              "        [  4,   5,  -8,   7],\n",
              "        [ -4, -11,   8,  -1]]))"
            ]
          },
          "metadata": {},
          "execution_count": 10
        }
      ]
    },
    {
      "cell_type": "code",
      "source": [
        "# Definir las matrices\n",
        "matrices = {\n",
        "    \"a\": np.array([[2, 1, 4, -1], [3, -2, 1, 0], [5, 1, -3, 2], [-1, 3, 3, -1]]),\n",
        "    \"b\": np.array([[2, 1, 4, -1], [3, -2, 1, 1], [5, 1, -3, 2], [-1, 3, 3,-1]]),\n",
        "    \"c\": np.array([[2, 1, 4, -1], [3, -2, 1, 0], [5, 1, -3, 2], [0, 3, 3, -1]]),\n",
        "    \"d\": np.array([[2, 1, 4, -1], [3, 2, 1, 0], [5, 1, -3, 2], [-1, 3, 3, -1]]),\n",
        "}\n",
        "\n",
        "# Calcular determinantes\n",
        "determinantes = {key: round(np.linalg.det(matrix), 5) for key, matrix in matrices.items()}\n",
        "determinantes"
      ],
      "metadata": {
        "colab": {
          "base_uri": "https://localhost:8080/"
        },
        "id": "A_8_FX_ChhOf",
        "outputId": "a78d13d1-271c-4566-a0ea-9c5cc1c7e0ae"
      },
      "execution_count": 9,
      "outputs": [
        {
          "output_type": "execute_result",
          "data": {
            "text/plain": [
              "{'a': -0.0, 'b': 76.0, 'c': -13.0, 'd': -24.0}"
            ]
          },
          "metadata": {},
          "execution_count": 9
        }
      ]
    }
  ]
}