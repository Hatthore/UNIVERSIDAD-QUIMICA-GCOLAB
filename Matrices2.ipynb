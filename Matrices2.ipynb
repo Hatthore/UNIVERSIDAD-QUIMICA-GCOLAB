{
  "nbformat": 4,
  "nbformat_minor": 0,
  "metadata": {
    "colab": {
      "provenance": [],
      "authorship_tag": "ABX9TyNqwSHuXPwJJqq2H7XKzUFD",
      "include_colab_link": true
    },
    "kernelspec": {
      "name": "python3",
      "display_name": "Python 3"
    },
    "language_info": {
      "name": "python"
    }
  },
  "cells": [
    {
      "cell_type": "markdown",
      "metadata": {
        "id": "view-in-github",
        "colab_type": "text"
      },
      "source": [
        "<a href=\"https://colab.research.google.com/github/Hatthore/UNIVERSIDAD-QUIMICA-GCOLAB/blob/General/Matrices2.ipynb\" target=\"_parent\"><img src=\"https://colab.research.google.com/assets/colab-badge.svg\" alt=\"Open In Colab\"/></a>"
      ]
    },
    {
      "cell_type": "code",
      "source": [
        "import sympy as sp"
      ],
      "metadata": {
        "id": "fKIw0IGTUKxg"
      },
      "execution_count": null,
      "outputs": []
    },
    {
      "cell_type": "code",
      "execution_count": null,
      "metadata": {
        "colab": {
          "base_uri": "https://localhost:8080/"
        },
        "id": "tsWs0IUMTxp_",
        "outputId": "f9d6819e-3204-48ee-92d5-6eb72b8fd1c6"
      },
      "outputs": [
        {
          "output_type": "execute_result",
          "data": {
            "text/plain": [
              "{p11: 2/19,\n",
              " p12: -3/19,\n",
              " p13: 4/19,\n",
              " p21: -1/19,\n",
              " p22: -2/19,\n",
              " p23: -6/19,\n",
              " q11: 5/19,\n",
              " q12: 2/19,\n",
              " q13: 10/19,\n",
              " q21: 7/19,\n",
              " q22: -5/19,\n",
              " q23: 4/19}"
            ]
          },
          "metadata": {},
          "execution_count": 4
        }
      ],
      "source": [
        "\n",
        "\n",
        "\n",
        "# Declarar las incógnitas de las matrices P y Q explícitamente\n",
        "p11, p12, p13, p21, p22, p23 = sp.symbols('p11 p12 p13 p21 p22 p23')\n",
        "q11, q12, q13, q21, q22, q23 = sp.symbols('q11 q12 q13 q21 q22 q23')\n",
        "\n",
        "# Representar las matrices P y Q con elementos explícitos\n",
        "P = sp.Matrix([[p11, p12, p13], [p21, p22, p23]])\n",
        "Q = sp.Matrix([[q11, q12, q13], [q21, q22, q23]])\n",
        "\n",
        "# Reescribir las ecuaciones usando estas matrices\n",
        "eq1_PQ = sp.Eq(2*P + 3*Q, sp.Matrix([[1, 0, 2], [1, -1, 0]]))\n",
        "eq2_PQ = sp.Eq(5*P - 2*Q, sp.Matrix([[0, -1, 0], [-1, 0, -2]]))\n",
        "\n",
        "# Resolver el sistema\n",
        "solutions_PQ = sp.solve([eq1_PQ, eq2_PQ], (p11, p12, p13, p21, p22, p23, q11, q12, q13, q21, q22, q23))\n",
        "solutions_PQ"
      ]
    },
    {
      "cell_type": "code",
      "source": [
        "# Declarar las incógnitas de las matrices P y Q explícitamente\n",
        "p11, p12, p13, p21, p22, p23 = sp.symbols('p11 p12 p13 p21 p22 p23')\n",
        "q11, q12, q13, q21, q22, q23 = sp.symbols('q11 q12 q13 q21 q22 q23')\n",
        "\n",
        "# Representar las matrices P y Q con elementos explícitos\n",
        "P = sp.Matrix([[p11, p12, p13], [p21, p22, p23]])\n",
        "Q = sp.Matrix([[q11, q12, q13], [q21, q22, q23]])\n",
        "\n",
        "# Reescribir las ecuaciones usando estas matrices\n",
        "eq1_PQ = sp.Eq(-3*P + 3*Q, sp.Matrix([[1, 0, 2], [1, -1, 0]]))\n",
        "eq2_PQ = sp.Eq(4*P + -2*Q, sp.Matrix([[0, -1, -2], [-1, 0, -2]]))\n",
        "\n",
        "# Resolver el sistema\n",
        "solutions_PQ = sp.solve([eq1_PQ, eq2_PQ], (p11, p12, p13, p21, p22, p23, q11, q12, q13, q21, q22, q23))\n",
        "solutions_PQ"
      ],
      "metadata": {
        "colab": {
          "base_uri": "https://localhost:8080/"
        },
        "id": "qxEZg1ynVJ1l",
        "outputId": "5b81b4d1-7940-4f1e-acf8-74c344c92b70"
      },
      "execution_count": null,
      "outputs": [
        {
          "output_type": "execute_result",
          "data": {
            "text/plain": [
              "{p11: 1/3,\n",
              " p12: -1/2,\n",
              " p13: -1/3,\n",
              " p21: -1/6,\n",
              " p22: -1/3,\n",
              " p23: -1,\n",
              " q11: 2/3,\n",
              " q12: -1/2,\n",
              " q13: 1/3,\n",
              " q21: 1/6,\n",
              " q22: -2/3,\n",
              " q23: -1}"
            ]
          },
          "metadata": {},
          "execution_count": 8
        }
      ]
    },
    {
      "cell_type": "code",
      "source": [
        "# Nuevas ecuaciones para P y Q\n",
        "eq1_new = sp.Eq(-3*P + 5*Q, sp.Matrix([[1, 0, 2], [2, 1, 0]]))\n",
        "eq2_new = sp.Eq(2*P + -2*Q, sp.Matrix([[1, -1, -2], [-1, 0, -2]]))\n",
        "\n",
        "# Resolver el sistema\n",
        "solutions_new_PQ = sp.solve([eq1_new, eq2_new], (p11, p12, p13, p21, p22, p23, q11, q12, q13, q21, q22, q23))\n",
        "solutions_new_PQ"
      ],
      "metadata": {
        "colab": {
          "base_uri": "https://localhost:8080/"
        },
        "id": "3T3CuWkJWgwe",
        "outputId": "4e371699-83e0-4fa6-a2de-4fa4ed1fbb7c"
      },
      "execution_count": null,
      "outputs": [
        {
          "output_type": "execute_result",
          "data": {
            "text/plain": [
              "{p11: 7/4,\n",
              " p12: -5/4,\n",
              " p13: -3/2,\n",
              " p21: -1/4,\n",
              " p22: 1/2,\n",
              " p23: -5/2,\n",
              " q11: 5/4,\n",
              " q12: -3/4,\n",
              " q13: -1/2,\n",
              " q21: 1/4,\n",
              " q22: 1/2,\n",
              " q23: -3/2}"
            ]
          },
          "metadata": {},
          "execution_count": 19
        }
      ]
    }
  ]
}